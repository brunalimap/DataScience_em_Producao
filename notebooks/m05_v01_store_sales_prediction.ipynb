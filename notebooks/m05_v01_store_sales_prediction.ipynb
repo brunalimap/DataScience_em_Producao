{
 "cells": [
  {
   "cell_type": "markdown",
   "metadata": {
    "heading_collapsed": true
   },
   "source": [
    "# 0.0 Imports"
   ]
  },
  {
   "cell_type": "code",
   "execution_count": null,
   "metadata": {
    "ExecuteTime": {
     "end_time": "2020-11-06T17:03:21.776272Z",
     "start_time": "2020-11-06T17:03:19.916485Z"
    },
    "hidden": true
   },
   "outputs": [],
   "source": [
    "import math\n",
    "import pandas as pd\n",
    "import numpy as np\n",
    "import inflection\n",
    "import datetime\n",
    "\n",
    "\n",
    "import seaborn as sns\n",
    "\n",
    "from tabulate              import tabulate\n",
    "from datetime              import timedelta\n",
    "from scipy                 import stats  as ss\n",
    "from matplotlib            import pyplot as plt\n",
    "from IPython.core.display  import HTML\n",
    "from IPython.display       import Image\n",
    "from sklearn.preprocessing import RobustScaler, MinMaxScaler, LabelEncoder\n",
    "\n"
   ]
  },
  {
   "cell_type": "markdown",
   "metadata": {
    "hidden": true
   },
   "source": [
    "## 0.1. Helper Functions"
   ]
  },
  {
   "cell_type": "code",
   "execution_count": null,
   "metadata": {
    "ExecuteTime": {
     "end_time": "2020-11-06T17:03:21.808965Z",
     "start_time": "2020-11-06T17:03:21.780068Z"
    },
    "hidden": true
   },
   "outputs": [],
   "source": [
    "def cramer_v( x, y ):\n",
    "    cm = pd.crosstab( x, y ).as_matrix() #cm confusion metrics  crosstab (Calcule uma tabulação cruzada simples de dois (ou mais) fatores)\n",
    "    n = cm.sum()\n",
    "    r, k = cm.shape  #número de linhas e colunas\n",
    "    \n",
    "    chi2 = ss.chi2_contingency( cm )[0]  #chi2 já tem método para calcular com scipy\n",
    "    chi2corr = max( 0, chi2 - (k-1)*(r-1)/(n-1) )\n",
    "    \n",
    "    kcorr = k - (k-1)**2/(n-1)\n",
    "    rcorr = r - (r-1)**2/(n-1)\n",
    "    \n",
    "    return np.sqrt( (chi2corr/n) / ( min( kcorr-1, rcorr-1 ) ) )\n",
    "\n",
    "def jupyter_settings():\n",
    "    \n",
    "    %matplotlib inline \n",
    "    %pylab inline\n",
    "    \n",
    "    plt.style.use('bmh')\n",
    "    plt.rcParams['figure.figsize']=[20,10]\n",
    "    plt.rcParams['font.size']=10\n",
    "    \n",
    "    display( HTML('<style>.container {width:100% !important; }</style>'))\n",
    "    pd.options.display.max_columns = None\n",
    "    pd.options.display.max_rows = None\n",
    "    #pd.set_options('display.expand_frame_repr',False )\n",
    "    \n",
    "    sns.set()\n",
    "    "
   ]
  },
  {
   "cell_type": "code",
   "execution_count": null,
   "metadata": {
    "ExecuteTime": {
     "end_time": "2020-11-06T17:03:21.871869Z",
     "start_time": "2020-11-06T17:03:21.813924Z"
    },
    "hidden": true
   },
   "outputs": [],
   "source": [
    "jupyter_settings()"
   ]
  },
  {
   "cell_type": "markdown",
   "metadata": {
    "heading_collapsed": true,
    "hidden": true
   },
   "source": [
    "## 0.2. Loading Data"
   ]
  },
  {
   "cell_type": "code",
   "execution_count": null,
   "metadata": {
    "ExecuteTime": {
     "end_time": "2020-11-06T17:03:23.439230Z",
     "start_time": "2020-11-06T17:03:21.879811Z"
    },
    "hidden": true
   },
   "outputs": [],
   "source": [
    "# o argumento low_memory fala para função pd.read para ler todo o arquivo de uma só vez\n",
    "df_sales_row = pd.read_csv('data/train.csv', low_memory=False)\n",
    "df_store_row = pd.read_csv('data/store.csv', low_memory=False)\n",
    "\n",
    "#merge\n",
    "df_raw = pd.merge(df_sales_row, df_store_row, how='left', on ='Store')"
   ]
  },
  {
   "cell_type": "code",
   "execution_count": null,
   "metadata": {
    "ExecuteTime": {
     "end_time": "2020-11-06T17:03:23.781131Z",
     "start_time": "2020-11-06T17:03:23.442237Z"
    },
    "hidden": true
   },
   "outputs": [],
   "source": [
    "df_raw.sample()"
   ]
  },
  {
   "cell_type": "markdown",
   "metadata": {
    "heading_collapsed": true
   },
   "source": [
    "# 1.0 Data Description "
   ]
  },
  {
   "cell_type": "markdown",
   "metadata": {
    "heading_collapsed": true,
    "hidden": true
   },
   "source": [
    "## 1.1. Rename Columns"
   ]
  },
  {
   "cell_type": "code",
   "execution_count": null,
   "metadata": {
    "ExecuteTime": {
     "end_time": "2020-11-06T17:03:23.877222Z",
     "start_time": "2020-11-06T17:03:23.783697Z"
    },
    "hidden": true
   },
   "outputs": [],
   "source": [
    "df1 = df_raw.copy()"
   ]
  },
  {
   "cell_type": "code",
   "execution_count": null,
   "metadata": {
    "ExecuteTime": {
     "end_time": "2020-11-06T17:03:23.887204Z",
     "start_time": "2020-11-06T17:03:23.880079Z"
    },
    "hidden": true
   },
   "outputs": [],
   "source": [
    "df1.columns"
   ]
  },
  {
   "cell_type": "code",
   "execution_count": null,
   "metadata": {
    "ExecuteTime": {
     "end_time": "2020-11-06T17:03:23.905249Z",
     "start_time": "2020-11-06T17:03:23.895060Z"
    },
    "hidden": true
   },
   "outputs": [],
   "source": [
    "cols_old = ['Store', 'DayOfWeek', 'Date', 'Sales', 'Customers', 'Open', 'Promo','StateHoliday', 'SchoolHoliday',\n",
    "            'StoreType', 'Assortment','CompetitionDistance', 'CompetitionOpenSinceMonth','CompetitionOpenSinceYear', \n",
    "            'Promo2', 'Promo2SinceWeek','Promo2SinceYear', 'PromoInterval'] \n",
    "\n",
    "snakecase = lambda x: inflection.underscore(x)\n",
    "\n",
    "cols_new = list(map(snakecase, cols_old))\n",
    "\n",
    "#Rename of columns\n",
    "df1.columns = cols_new"
   ]
  },
  {
   "cell_type": "markdown",
   "metadata": {
    "hidden": true
   },
   "source": [
    "## 1.2. Data Dimension"
   ]
  },
  {
   "cell_type": "code",
   "execution_count": null,
   "metadata": {
    "ExecuteTime": {
     "end_time": "2020-11-06T17:03:23.919734Z",
     "start_time": "2020-11-06T17:03:23.909971Z"
    },
    "hidden": true
   },
   "outputs": [],
   "source": [
    "print('Number rows: {}'.format(df1.shape[0]))\n",
    "print('Number cols: {}'.format(df1.shape[1]))"
   ]
  },
  {
   "cell_type": "markdown",
   "metadata": {
    "hidden": true
   },
   "source": [
    "## 1.3. Data Types"
   ]
  },
  {
   "cell_type": "code",
   "execution_count": null,
   "metadata": {
    "ExecuteTime": {
     "end_time": "2020-11-06T17:03:24.094194Z",
     "start_time": "2020-11-06T17:03:23.922029Z"
    },
    "hidden": true
   },
   "outputs": [],
   "source": [
    "df1['date'] = pd.to_datetime(df1['date'])\n",
    "df1.dtypes"
   ]
  },
  {
   "cell_type": "markdown",
   "metadata": {
    "hidden": true
   },
   "source": [
    "## 1.4. Check NA"
   ]
  },
  {
   "cell_type": "code",
   "execution_count": null,
   "metadata": {
    "ExecuteTime": {
     "end_time": "2020-11-06T17:03:24.417402Z",
     "start_time": "2020-11-06T17:03:24.098807Z"
    },
    "hidden": true
   },
   "outputs": [],
   "source": [
    "df1.isna().sum()"
   ]
  },
  {
   "cell_type": "markdown",
   "metadata": {
    "hidden": true
   },
   "source": [
    "## 1.5. Fillout NA"
   ]
  },
  {
   "cell_type": "code",
   "execution_count": null,
   "metadata": {
    "ExecuteTime": {
     "end_time": "2020-11-06T17:03:24.442588Z",
     "start_time": "2020-11-06T17:03:24.423413Z"
    },
    "hidden": true
   },
   "outputs": [],
   "source": [
    "df1['competition_distance'].max()"
   ]
  },
  {
   "cell_type": "code",
   "execution_count": null,
   "metadata": {
    "ExecuteTime": {
     "end_time": "2020-11-06T17:08:35.520740Z",
     "start_time": "2020-11-06T17:03:24.447983Z"
    },
    "hidden": true
   },
   "outputs": [],
   "source": [
    "#competition_distance \n",
    "# Ela vai mostrar se na coluna tem NA o \"isnan\"\n",
    "# apply aplica a função em todas as linhas\n",
    "\n",
    "df1['competition_distance'] = df1['competition_distance'].apply(lambda x: 200000.0 if math.isnan(x) else x)\n",
    "\n",
    "#competition_open_since_month\n",
    "\n",
    "df1['competition_open_since_month']= df1.apply( lambda x: x['date'].month if math.isnan(x['competition_open_since_month']) else x['competition_open_since_month'], axis=1)\n",
    "\n",
    "#competition_open_since_year \n",
    "\n",
    "df1['competition_open_since_year']= df1.apply(lambda x: x['date'].year if math.isnan(x['competition_open_since_year']) else x['competition_open_since_year'], axis = 1)\n",
    "                               \n",
    "#promo2_since_week\n",
    "df1['promo2_since_week'] = df1.apply(lambda x: x['date'].week if math.isnan(x['promo2_since_week']) else x['promo2_since_week'],axis=1)\n",
    "\n",
    "#promo2_since_year       \n",
    "\n",
    "df1['promo2_since_year'] = df1.apply(lambda x: x['date'].year if math.isnan(x['promo2_since_year']) else x['promo2_since_year'], axis=1)\n",
    "\n",
    "#promo_interval  \n",
    "month_map = {1: 'Jan', 2: 'Fev', 3: 'Mar', 4: 'Apr', 5: 'May', 6: 'Jun', 7: 'Jul', 8: 'Aug', 9: 'Sep', 10: 'Oct', 11: 'Nov', 12: 'Dec'}\n",
    "\n",
    "df1['promo_interval'].fillna(0, inplace=True)\n",
    "\n",
    "df1['month_map']= df1['date'].dt.month.map(month_map)\n",
    "\n",
    "\n",
    "df1['is_promo'] = df1[['promo_interval', 'month_map']].apply(lambda x: 0 if x['promo_interval']== 0 else 1 if x['month_map']in x['promo_interval'].split(',') else 0 , axis=1)                 \n"
   ]
  },
  {
   "cell_type": "code",
   "execution_count": null,
   "metadata": {
    "ExecuteTime": {
     "end_time": "2020-11-06T17:08:35.831496Z",
     "start_time": "2020-11-06T17:08:35.524647Z"
    },
    "hidden": true
   },
   "outputs": [],
   "source": [
    "df1.sample(5).T"
   ]
  },
  {
   "cell_type": "markdown",
   "metadata": {
    "hidden": true
   },
   "source": [
    "## 1.6. Change"
   ]
  },
  {
   "cell_type": "code",
   "execution_count": null,
   "metadata": {
    "ExecuteTime": {
     "end_time": "2020-11-06T17:08:35.846276Z",
     "start_time": "2020-11-06T17:08:35.834679Z"
    },
    "hidden": true
   },
   "outputs": [],
   "source": [
    "df1.dtypes"
   ]
  },
  {
   "cell_type": "code",
   "execution_count": null,
   "metadata": {
    "ExecuteTime": {
     "end_time": "2020-11-06T17:08:35.928436Z",
     "start_time": "2020-11-06T17:08:35.850441Z"
    },
    "hidden": true
   },
   "outputs": [],
   "source": [
    "df1['competition_open_since_month'] = df1['competition_open_since_month'].astype(int)\n",
    "df1['competition_open_since_year'] = df1['competition_open_since_year'].astype(int)\n",
    "\n",
    "df1['promo2_since_week'] = df1['promo2_since_week'].astype(int)\n",
    "df1['promo2_since_year'] = df1['promo2_since_year'].astype(int)"
   ]
  },
  {
   "cell_type": "markdown",
   "metadata": {
    "hidden": true
   },
   "source": [
    "## 1.7. Descriptive Statistical"
   ]
  },
  {
   "cell_type": "code",
   "execution_count": null,
   "metadata": {
    "ExecuteTime": {
     "end_time": "2020-11-06T17:08:36.320114Z",
     "start_time": "2020-11-06T17:08:35.933116Z"
    },
    "hidden": true
   },
   "outputs": [],
   "source": [
    "#Separar as variáveis numéricas das categóricas\n",
    "\n",
    "num_attributes = df1.select_dtypes(include = ['int64', 'float64'])\n",
    "cat_attributes=df1.select_dtypes(include = ['object'])"
   ]
  },
  {
   "cell_type": "markdown",
   "metadata": {
    "hidden": true
   },
   "source": [
    "### 1.7.1 Numerical Attributes"
   ]
  },
  {
   "cell_type": "code",
   "execution_count": null,
   "metadata": {
    "ExecuteTime": {
     "end_time": "2020-11-06T17:08:45.023264Z",
     "start_time": "2020-11-06T17:08:36.322960Z"
    },
    "hidden": true
   },
   "outputs": [],
   "source": [
    "#Central tendencian - mean, median\n",
    "\n",
    "ct1 = pd.DataFrame( num_attributes.apply(np.mean)).T\n",
    "ct2 = pd.DataFrame(num_attributes.apply(np.median)).T\n",
    "\n",
    "#Dispersion - std, min, max, range, skew, kurtosis\n",
    "\n",
    "d1 = pd.DataFrame(num_attributes.apply(np.std)).T\n",
    "d2 = pd.DataFrame(num_attributes.apply(min)).T\n",
    "d3 = pd.DataFrame(num_attributes.apply(max)).T\n",
    "d4 = pd.DataFrame(num_attributes.apply(lambda x: x.max() - x.min() )).T\n",
    "d5 = pd.DataFrame(num_attributes.apply(lambda x: x.skew() )).T\n",
    "d6 = pd.DataFrame(num_attributes.apply(lambda x: x.kurtosis() )).T\n",
    "\n",
    "#Concatenate\n",
    "m = pd.concat([d2, d3, d4, ct1, ct2, d1, d5, d6]).T.reset_index()\n",
    "m.columns = ['attributes','min', 'max', 'range', 'mean', 'median', 'std', 'skew','kurtosis']\n",
    "m"
   ]
  },
  {
   "cell_type": "code",
   "execution_count": null,
   "metadata": {
    "ExecuteTime": {
     "end_time": "2020-11-06T17:08:47.109050Z",
     "start_time": "2020-11-06T17:08:45.028848Z"
    },
    "hidden": true
   },
   "outputs": [],
   "source": [
    "sns.distplot(df1['competition_distance'], kde= False)"
   ]
  },
  {
   "cell_type": "markdown",
   "metadata": {
    "hidden": true
   },
   "source": [
    "### 1.7.2 Categorical Attributes"
   ]
  },
  {
   "cell_type": "code",
   "execution_count": null,
   "metadata": {
    "ExecuteTime": {
     "end_time": "2020-11-06T17:08:47.392860Z",
     "start_time": "2020-11-06T17:08:47.114131Z"
    },
    "hidden": true
   },
   "outputs": [],
   "source": [
    "cat_attributes.apply(lambda x: x.unique().shape[0])"
   ]
  },
  {
   "cell_type": "code",
   "execution_count": null,
   "metadata": {
    "ExecuteTime": {
     "end_time": "2020-11-06T17:08:49.517377Z",
     "start_time": "2020-11-06T17:08:47.398581Z"
    },
    "hidden": true
   },
   "outputs": [],
   "source": [
    "aux = df1[(df1['state_holiday'] != '0') & (df1['sales'] > 0) ]\n",
    "\n",
    "plt.subplot(1, 3, 1)\n",
    "sns.boxplot(x='state_holiday', y= 'sales', data= aux)\n",
    "\n",
    "plt.subplot(1, 3, 2)\n",
    "sns.boxplot(x='store_type', y= 'sales', data= aux)\n",
    "\n",
    "plt.subplot(1, 3, 3)\n",
    "sns.boxplot(x='assortment', y= 'sales', data= aux)\n",
    "\n",
    "\n"
   ]
  },
  {
   "cell_type": "markdown",
   "metadata": {
    "hidden": true
   },
   "source": [
    "##### Fenômeno\n",
    " \n",
    "    - É aquilo que você está tentando medir ou modelar\n",
    "    - Qual o fenômeno você está tentando modelar?\n",
    "\n",
    "##### Agentes\n",
    "    - Quem são os agentes atuam sobre o fenômeno de interesse?\n",
    "\n",
    "##### Atributos dos agentes\n",
    "    - Qual a descrição dos Agentes?\n",
    "\n",
    "##### Lista  de Hipóteses:\n",
    "    - Hipóteses para validar com os dados?\n",
    "\n",
    "##### Como escrever hipóteses?"
   ]
  },
  {
   "cell_type": "markdown",
   "metadata": {
    "heading_collapsed": true
   },
   "source": [
    "# 2.0 Feature Engineering"
   ]
  },
  {
   "cell_type": "markdown",
   "metadata": {
    "hidden": true
   },
   "source": [
    "## 2.1  Mapa das Hipóteses"
   ]
  },
  {
   "cell_type": "code",
   "execution_count": null,
   "metadata": {
    "ExecuteTime": {
     "end_time": "2020-11-06T17:08:49.540038Z",
     "start_time": "2020-11-06T17:08:49.523808Z"
    },
    "hidden": true
   },
   "outputs": [],
   "source": [
    "Image('img/MindMapHypothesis.png')"
   ]
  },
  {
   "cell_type": "markdown",
   "metadata": {
    "hidden": true
   },
   "source": [
    "## 2.2 Criação das Hipóteses"
   ]
  },
  {
   "cell_type": "markdown",
   "metadata": {
    "hidden": true
   },
   "source": [
    "### 2.2.1 Hipóteses das Lojas"
   ]
  },
  {
   "cell_type": "markdown",
   "metadata": {
    "hidden": true
   },
   "source": [
    "**1-** Lojas com maior número de funcionários deveriam vender mais.\n",
    "\n",
    "**2-** Lojas com maior capacidade de estoque deveriam vender mais.\n",
    "\n",
    "**3-** Lojas com maior porte deveriam vender mais.\n",
    "\n",
    "**4-** Lojas com competidores mais próximos deveriam vender menos.\n",
    "\n",
    "**5-** Lojas com maior sortimento deveriam vender mais.\n",
    "\n",
    "**6-** Lojas com competidores à mais tempo  deveriam vender mais."
   ]
  },
  {
   "cell_type": "markdown",
   "metadata": {
    "hidden": true
   },
   "source": [
    "### 2.2.2 Hipóteses dos Produtos"
   ]
  },
  {
   "cell_type": "markdown",
   "metadata": {
    "hidden": true
   },
   "source": [
    "**1-** Lojas que investem mais em Marketing deveriam vender mais.\n",
    "\n",
    "**2-** Lojas com maior exposição de produtos deveriam vender mais.\n",
    "\n",
    "**3-** Lojas com produtos com preço menor deveriam vender mais.\n",
    "\n",
    "**4-** Lojas com promoções mais agressivas(descontos maiores), deveriam vender mais.\n",
    "\n",
    "**5-** Lojas com promoções ativas por mais tempo deveriam vender mais.\n",
    "\n",
    "**6-** Lojas com mais dias de promoção deveriam vender mais.\n",
    "\n",
    "**7-** Lojas com mais promoções consecutivas deveriam vender mais.\n"
   ]
  },
  {
   "cell_type": "markdown",
   "metadata": {
    "hidden": true
   },
   "source": [
    "### 2.2.3 Hipóteses de Tempo"
   ]
  },
  {
   "cell_type": "markdown",
   "metadata": {
    "hidden": true
   },
   "source": [
    "**1-** Lojas abertas durante o feriado de Natal deveriam vender mais.\n",
    "\n",
    "**2-** Lojas deveriam vender mais ao longo dos anos\n",
    "\n",
    "**3-** Lojas deveriam vender mais no segundo semestre do ano.\n",
    "\n",
    "**4-** Lojas deveriam vender mais depois do dia 10 de cada mês.\n",
    "\n",
    "**5-** Lojas deveriam vender menos aos finais de semana.\n",
    "\n",
    "**6-** Lojas deveriam vender menos durante os feriados escolares."
   ]
  },
  {
   "cell_type": "markdown",
   "metadata": {
    "hidden": true
   },
   "source": [
    "## 2.3 Hipóteses Finais"
   ]
  },
  {
   "cell_type": "markdown",
   "metadata": {
    "hidden": true
   },
   "source": [
    "- Loja\n",
    "\n",
    "**1-** Lojas com competidores mais próximos deveriam vender menos.\n",
    "\n",
    "**2-** Lojas com maior sortimento deveriam vender mais.\n",
    "\n",
    "**3-** Lojas com competidores à mais tempo  deveriam vender mais.\n",
    "\n",
    "- Produtos\n",
    "\n",
    "**4-** Lojas com promoções ativas por mais tempo deveriam vender mais.\n",
    "\n",
    "**5-** Lojas com mais dias de promoção deveriam vender mais.\n",
    "\n",
    "**6-** Lojas com mais promoções consecutivas deveriam vender mais.\n",
    "\n",
    "- Tempo\n",
    "\n",
    "**7-** Lojas abertas durante o feriado de Natal deveriam vender mais.\n",
    "\n",
    "**8-** Lojas deveriam vender mais ao longo dos anos\n",
    "\n",
    "**9-** Lojas deveriam vender mais no segundo semestre do ano.\n",
    "\n",
    "**10-** Lojas deveriam vender mais depois do dia 10 de cada mês.\n",
    "\n",
    "**11-** Lojas deveriam vender menos aos finais de semana.\n",
    "\n",
    "**12-** Lojas deveriam vender menos durante os feriados escolares.\n"
   ]
  },
  {
   "cell_type": "markdown",
   "metadata": {
    "hidden": true
   },
   "source": [
    "## 2.4 Feature Engineering"
   ]
  },
  {
   "cell_type": "code",
   "execution_count": null,
   "metadata": {
    "ExecuteTime": {
     "end_time": "2020-11-06T17:08:49.787283Z",
     "start_time": "2020-11-06T17:08:49.616180Z"
    },
    "hidden": true
   },
   "outputs": [],
   "source": [
    "df2 = df1.copy()"
   ]
  },
  {
   "cell_type": "code",
   "execution_count": null,
   "metadata": {
    "ExecuteTime": {
     "end_time": "2020-11-06T17:11:35.842203Z",
     "start_time": "2020-11-06T17:08:49.797689Z"
    },
    "hidden": true
   },
   "outputs": [],
   "source": [
    "#year \n",
    "df2['year'] = df2['date'].dt.year\n",
    "\n",
    "#month\n",
    "df2['month'] = df2['date'].dt.month\n",
    "\n",
    "#day\n",
    "df2['day'] = df2['date'].dt.day\n",
    "\n",
    "#week of year\n",
    "df2['week_of_year'] = df2['date'].dt.weekofyear\n",
    "\n",
    "#year week\n",
    "df2['year_week'] = df2['date'].dt.strftime( '%Y-%W')\n",
    "\n",
    "\n",
    "#competition of since\n",
    "df2['competition_since']= df2.apply(lambda x: datetime.datetime(year=x['competition_open_since_year'], month=x['competition_open_since_month'],day=1), axis=1)\n",
    "df2['competition_time_month'] = ((df2['date'] - df2['competition_since'])/30).apply(lambda x: x.days).astype(int)\n",
    "\n",
    "#promo since\n",
    "df2['promo_since'] = df2['promo2_since_year'].astype(str) + '-' + df2['promo2_since_week'].astype(str)\n",
    "df2['promo_since']= df2['promo_since'].apply(lambda x: datetime.datetime.strptime(x + '-1', '%Y-%W-%w')- datetime.timedelta( days=7 ))\n",
    "df2['promo_since_week'] = ((df2['date'] - df2['promo_since'])/7).apply(lambda x: x.days).astype(int)\n",
    "\n",
    "#assortment\n",
    "df2['assortment'] =df2['assortment'].apply(lambda x: 'basic' if x == 'a' else 'extra' if x == 'b' else 'extended')\n",
    "\n",
    "# state holiday\n",
    "df2['state_holiday'] = df2['state_holiday'].apply(lambda x: 'public holiday' if x == 'a' else 'Easter holiday' if x == 'b' else 'Christmas' if x =='c' else 'regular_day')\n",
    "\n"
   ]
  },
  {
   "cell_type": "code",
   "execution_count": null,
   "metadata": {
    "ExecuteTime": {
     "end_time": "2020-11-06T17:11:35.924187Z",
     "start_time": "2020-11-06T17:11:35.880417Z"
    },
    "hidden": true
   },
   "outputs": [],
   "source": [
    "df2.head().T"
   ]
  },
  {
   "cell_type": "markdown",
   "metadata": {
    "heading_collapsed": true
   },
   "source": [
    "# 3.0 Variable Filtering"
   ]
  },
  {
   "cell_type": "markdown",
   "metadata": {
    "ExecuteTime": {
     "end_time": "2020-11-02T15:15:15.116278Z",
     "start_time": "2020-11-02T15:15:15.113014Z"
    },
    "hidden": true
   },
   "source": [
    "##### Filtragem de variáveis\n",
    " - Restrições de Acordo com o Negócio\n",
    "\n",
    "##### Seleção de Variáveis:\n",
    " - Variáveis mais relevantes para o modelo"
   ]
  },
  {
   "cell_type": "code",
   "execution_count": null,
   "metadata": {
    "ExecuteTime": {
     "end_time": "2020-11-06T17:11:36.578496Z",
     "start_time": "2020-11-06T17:11:35.929154Z"
    },
    "hidden": true
   },
   "outputs": [],
   "source": [
    "df3 = df2.copy()"
   ]
  },
  {
   "cell_type": "code",
   "execution_count": null,
   "metadata": {
    "ExecuteTime": {
     "end_time": "2020-11-06T17:11:36.608872Z",
     "start_time": "2020-11-06T17:11:36.582935Z"
    },
    "hidden": true
   },
   "outputs": [],
   "source": [
    "df3.head().T"
   ]
  },
  {
   "cell_type": "markdown",
   "metadata": {
    "hidden": true
   },
   "source": [
    "## 3.1 Rows Filtering"
   ]
  },
  {
   "cell_type": "code",
   "execution_count": null,
   "metadata": {
    "ExecuteTime": {
     "end_time": "2020-11-06T17:11:36.950041Z",
     "start_time": "2020-11-06T17:11:36.620399Z"
    },
    "hidden": true
   },
   "outputs": [],
   "source": [
    "df3 = df3[(df3['open'] != 0) & (df3['sales'] > 0)]"
   ]
  },
  {
   "cell_type": "markdown",
   "metadata": {
    "hidden": true
   },
   "source": [
    "## 3.2 Selection Columns"
   ]
  },
  {
   "cell_type": "code",
   "execution_count": null,
   "metadata": {
    "ExecuteTime": {
     "end_time": "2020-11-06T17:11:37.149672Z",
     "start_time": "2020-11-06T17:11:36.952777Z"
    },
    "hidden": true
   },
   "outputs": [],
   "source": [
    "col_drop = ['customers','open','promo_interval','month_map']\n",
    "df3 = df3.drop(col_drop, axis = 1)"
   ]
  },
  {
   "cell_type": "code",
   "execution_count": null,
   "metadata": {
    "ExecuteTime": {
     "end_time": "2020-11-06T17:11:37.161619Z",
     "start_time": "2020-11-06T17:11:37.152577Z"
    },
    "hidden": true
   },
   "outputs": [],
   "source": [
    "df3.columns"
   ]
  },
  {
   "cell_type": "markdown",
   "metadata": {},
   "source": [
    "# 4.0 Exploratory Analysis"
   ]
  },
  {
   "cell_type": "markdown",
   "metadata": {
    "ExecuteTime": {
     "end_time": "2020-11-02T15:15:16.082783Z",
     "start_time": "2020-11-02T15:15:16.074455Z"
    }
   },
   "source": [
    "##### Quais os 3 objetivos da EDA?\n",
    "  - Ganhar experiência de Negócio\n",
    "  - Validar Hipóteses dde Negócio. (Insights)\n",
    "  - Perceber variáveis que são importantes para o modelo.\n",
    "    \n",
    "##### Tem 3 tipos de análise sendo elas:\n",
    "   - Análise Univariada - Como é essa variável? ( Min, Max, Range, ...) \n",
    "   - Análise Bivariada - Como a variável impacta na resposta? (Correlação, validação das hpóteses ..)\n",
    "   - Análise Multivariadas - Como as variáveis se relacionam? ( Qual a correlação entre elas)\n",
    "    "
   ]
  },
  {
   "cell_type": "code",
   "execution_count": null,
   "metadata": {
    "ExecuteTime": {
     "end_time": "2020-11-06T17:11:37.299937Z",
     "start_time": "2020-11-06T17:11:37.169988Z"
    }
   },
   "outputs": [],
   "source": [
    "df4 = df3.copy()"
   ]
  },
  {
   "cell_type": "markdown",
   "metadata": {},
   "source": [
    "## 4.1 Analysis Univariate"
   ]
  },
  {
   "cell_type": "markdown",
   "metadata": {},
   "source": [
    "### 4.1.1 Response Variable"
   ]
  },
  {
   "cell_type": "markdown",
   "metadata": {},
   "source": [
    "### 4.1.2 Numerical Variable"
   ]
  },
  {
   "cell_type": "code",
   "execution_count": null,
   "metadata": {
    "ExecuteTime": {
     "end_time": "2020-11-06T17:11:46.759971Z",
     "start_time": "2020-11-06T17:11:37.302653Z"
    }
   },
   "outputs": [],
   "source": [
    "# Arrumar o gráfico\n",
    "num_attributes.hist(bins=15);"
   ]
  },
  {
   "cell_type": "code",
   "execution_count": null,
   "metadata": {
    "ExecuteTime": {
     "end_time": "2020-11-06T17:11:51.827877Z",
     "start_time": "2020-11-06T17:11:46.763814Z"
    }
   },
   "outputs": [],
   "source": [
    "# Arrumar o gráfico\n",
    "sns.distplot(df4['sales'], kde=True)"
   ]
  },
  {
   "cell_type": "markdown",
   "metadata": {},
   "source": [
    "### 4.1.3 Categorical Variable"
   ]
  },
  {
   "cell_type": "code",
   "execution_count": null,
   "metadata": {
    "ExecuteTime": {
     "end_time": "2020-11-06T17:11:51.895001Z",
     "start_time": "2020-11-06T17:11:51.833327Z"
    }
   },
   "outputs": [],
   "source": [
    "df4['state_holiday'].drop_duplicates()"
   ]
  },
  {
   "cell_type": "code",
   "execution_count": null,
   "metadata": {
    "ExecuteTime": {
     "end_time": "2020-11-06T17:11:53.239889Z",
     "start_time": "2020-11-06T17:11:51.901618Z"
    }
   },
   "outputs": [],
   "source": [
    "#state_holiday\n",
    "plt.subplot(1, 2, 1)\n",
    "a = df4[df4['state_holiday'] != 'regular_day']\n",
    "sns.countplot(a['state_holiday'])\n",
    "\n",
    "plt.subplot(1, 2, 2)\n",
    "sns.kdeplot(df4[df4['state_holiday'] == 'public_holiday']['sales'], label='public_holiday', shade=True)\n",
    "#store_type\n",
    "#assortment"
   ]
  },
  {
   "cell_type": "markdown",
   "metadata": {},
   "source": [
    "## 4.2 Analysis Bivariate"
   ]
  },
  {
   "cell_type": "markdown",
   "metadata": {},
   "source": [
    "### 4.2.1 - Hipoteses"
   ]
  },
  {
   "cell_type": "markdown",
   "metadata": {},
   "source": [
    "#### H1- Lojas com competidores mais próximos deveriam vender menos.\n",
    "**False** Lojas com competidores mais próximos vendem MAIS"
   ]
  },
  {
   "cell_type": "code",
   "execution_count": null,
   "metadata": {
    "ExecuteTime": {
     "end_time": "2020-11-06T17:11:55.955221Z",
     "start_time": "2020-11-06T17:11:53.244587Z"
    }
   },
   "outputs": [],
   "source": [
    "aux01= df4[['competition_distance', 'sales']].groupby('competition_distance').sum().reset_index()\n",
    "\n",
    "#Plotagem de gráficos\n",
    "plt.subplot(1,3,1)# Uma Linha, 3 colunas , Primeira Posição\n",
    "sns.scatterplot(x='competition_distance', y='sales', data= aux01);\n",
    "plt.xticks(rotation=90);\n",
    "\n",
    "bins = list(np.arange(0,20000,1000))\n",
    "aux01['competition_distance_binned'] = pd.cut(aux01['competition_distance'], bins= bins)\n",
    "aux02= aux01[['competition_distance_binned', 'sales']].groupby('competition_distance_binned').sum().reset_index()\n",
    "\n",
    "plt.subplot(1,3,2) # Uma Linha, 3 colunas , Segunda Posição\n",
    "sns.barplot(x='competition_distance_binned', y='sales', data= aux02);\n",
    "plt.xticks(rotation=90);\n",
    "\n",
    "plt.subplot(1,3,3) # Uma Linha, 3 colunas , Terceira Posição\n",
    "\n",
    "corr = sns.heatmap(aux01.corr(method='pearson'),annot=True)\n",
    "#bottom, top = corr.get_ylim()\n",
    "#corr.set_ylim(bottom+0.5, top-0.5)"
   ]
  },
  {
   "cell_type": "markdown",
   "metadata": {},
   "source": [
    "#### H2- Lojas com maior sortimento deveriam vender mais.\n",
    "**False** Lojas com maior sortimento vendem MENOS"
   ]
  },
  {
   "cell_type": "code",
   "execution_count": null,
   "metadata": {
    "ExecuteTime": {
     "end_time": "2020-11-06T17:11:58.442603Z",
     "start_time": "2020-11-06T17:11:55.959642Z"
    }
   },
   "outputs": [],
   "source": [
    "aux1 = df4[['assortment','sales']].groupby('assortment').sum().reset_index()\n",
    "\n",
    "sns.barplot(x='assortment', y='sales', data= aux1);\n",
    "\n",
    "aux2 = df4[['year_week', 'assortment', 'sales']].groupby(['year_week', 'assortment']).sum().reset_index()\n",
    "\n",
    "aux2.pivot(index='year_week', columns='assortment', values='sales').plot()\n",
    "\n",
    "\n",
    "aux3 = aux2[aux2['assortment'] == 'extra']\n",
    "aux3.pivot(index='year_week', columns='assortment', values='sales').plot()"
   ]
  },
  {
   "cell_type": "markdown",
   "metadata": {},
   "source": [
    "#### H3- Lojas com competidores à mais tempo deveriam vender mais.\n",
    "**False** Lojas com competidores à mais tempo vendem MENOS"
   ]
  },
  {
   "cell_type": "code",
   "execution_count": null,
   "metadata": {
    "ExecuteTime": {
     "end_time": "2020-11-06T17:12:06.597607Z",
     "start_time": "2020-11-06T17:11:58.445666Z"
    }
   },
   "outputs": [],
   "source": [
    "aux01= df4[['competition_time_month', 'sales']].groupby('competition_time_month').sum().reset_index()\n",
    "aux02 = aux01[(aux01['competition_time_month'] < 120) & (aux01['competition_time_month'] != 0)]\n",
    "\n",
    "\n",
    "plt.subplot(2,1,1)\n",
    "sns.barplot(x='competition_time_month', y='sales', data= aux02);\n",
    "plt.xticks(rotation=90);\n",
    "\n",
    "\n",
    "\n",
    "\n",
    "\n",
    "\n",
    "\n",
    "\n"
   ]
  },
  {
   "cell_type": "code",
   "execution_count": null,
   "metadata": {
    "ExecuteTime": {
     "end_time": "2020-11-06T17:12:08.287458Z",
     "start_time": "2020-11-06T17:12:06.600821Z"
    }
   },
   "outputs": [],
   "source": [
    "plt.subplot(1,2,1)\n",
    "corr = sns.heatmap(aux01.corr(method='pearson'),annot=True);\n",
    "\n",
    "plt.subplot(1,2,2)\n",
    "sns.regplot(x='competition_time_month', y='sales', data= aux02);"
   ]
  },
  {
   "cell_type": "markdown",
   "metadata": {},
   "source": [
    "#### H4- Lojas com promoções ativas por mais tempo deveriam vender mais.\n",
    "**False** Lojas com promoções ativas por mais tempo Vendem MENOS"
   ]
  },
  {
   "cell_type": "code",
   "execution_count": null,
   "metadata": {
    "ExecuteTime": {
     "end_time": "2020-11-06T17:12:36.384698Z",
     "start_time": "2020-11-06T17:12:08.290878Z"
    }
   },
   "outputs": [],
   "source": [
    "aux1= df4[['promo_since_week', 'sales']].groupby('promo_since_week').sum().reset_index()\n",
    "\n",
    "\n",
    "grid =GridSpec(2,3)\n",
    "\n",
    "\n",
    "plt.subplot(grid[ 0, 0])\n",
    "aux2= aux1[aux1['promo_since_week'] > 0 ] #promo extendido\n",
    "sns.barplot(x='promo_since_week', y= 'sales', data = aux2);\n",
    "plt.xticks(rotation=90);\n",
    "\n",
    "plt.subplot(grid[ 0, 1])\n",
    "sns.regplot(x='promo_since_week', y= 'sales', data = aux2);\n",
    "\n",
    "\n",
    "plt.subplot(grid[ 1, 0])\n",
    "aux3= aux1[aux1['promo_since_week'] < 0 ] # promo regular\n",
    "sns.barplot(x='promo_since_week', y= 'sales', data = aux3);\n",
    "plt.xticks(rotation=90);\n",
    "\n",
    "plt.subplot(grid[ 1, 1])\n",
    "sns.regplot(x='promo_since_week', y= 'sales', data = aux3);\n",
    "\n",
    "plt.subplot (grid[ :, 2])\n",
    "sns.heatmap(aux1.corr(method='pearson'), annot=True)"
   ]
  },
  {
   "cell_type": "markdown",
   "metadata": {},
   "source": [
    "#### <s> H5- Lojas com mais dias de promoção deveriam vender mais. </s>\n"
   ]
  },
  {
   "cell_type": "markdown",
   "metadata": {},
   "source": [
    "#### H6- Lojas com mais promoções consecutivas deveriam vender mais.\n",
    "**False** Lojas com mais promoções consecutivas vendem MENOS"
   ]
  },
  {
   "cell_type": "code",
   "execution_count": null,
   "metadata": {
    "ExecuteTime": {
     "end_time": "2020-11-06T17:12:36.525172Z",
     "start_time": "2020-11-06T17:12:36.389980Z"
    }
   },
   "outputs": [],
   "source": [
    "df4[['promo', 'promo2','sales']].groupby(['promo','promo2']).sum().reset_index()"
   ]
  },
  {
   "cell_type": "code",
   "execution_count": null,
   "metadata": {
    "ExecuteTime": {
     "end_time": "2020-11-06T17:12:37.834986Z",
     "start_time": "2020-11-06T17:12:36.529300Z"
    }
   },
   "outputs": [],
   "source": [
    "aux1 = df4[(df4['promo'] == 1) & (df4['promo2'] == 1)][['year_week','sales']].groupby('year_week').sum().reset_index()\n",
    "ax = aux1.plot()\n",
    "\n",
    "aux2 = df4[(df4['promo'] == 1) & (df4['promo2'] == 0)][['year_week','sales']].groupby('year_week').sum().reset_index()\n",
    "aux2.plot(ax=ax)\n",
    "\n",
    "ax.legend(labels=['Tradicional e Extendida','Extendida'])"
   ]
  },
  {
   "cell_type": "markdown",
   "metadata": {},
   "source": [
    "#### H7- Lojas abertas durante o feriado de Natal deveriam vender mais.\n",
    "**False** Lojas abertas durante o feriado de Natal vendem MENOS"
   ]
  },
  {
   "cell_type": "code",
   "execution_count": null,
   "metadata": {
    "ExecuteTime": {
     "end_time": "2020-11-06T17:12:37.896577Z",
     "start_time": "2020-11-06T17:12:37.841749Z"
    }
   },
   "outputs": [],
   "source": [
    "df4.head(3)"
   ]
  },
  {
   "cell_type": "code",
   "execution_count": null,
   "metadata": {
    "ExecuteTime": {
     "end_time": "2020-11-06T17:12:39.263333Z",
     "start_time": "2020-11-06T17:12:37.901759Z"
    }
   },
   "outputs": [],
   "source": [
    "aux = df4[df4['state_holiday'] != 'regular_day']\n",
    "\n",
    "plt.subplot(1,2,1)\n",
    "aux1 = aux[['state_holiday', 'sales']].groupby('state_holiday').sum().reset_index()\n",
    "sns.barplot(x='state_holiday', y='sales', data=aux1);\n",
    "\n",
    "plt.subplot(1,2,2)\n",
    "aux2= aux[['year', 'state_holiday', 'sales']].groupby(['year','state_holiday']).sum().reset_index()\n",
    "sns.barplot(x='year', y='sales', hue= 'state_holiday', data=aux2);"
   ]
  },
  {
   "cell_type": "markdown",
   "metadata": {},
   "source": [
    "#### H8- Lojas deveriam vender mais ao longo dos anos\n",
    "**False** Lojas vendem MENOS ao longo dos anos"
   ]
  },
  {
   "cell_type": "code",
   "execution_count": null,
   "metadata": {
    "ExecuteTime": {
     "end_time": "2020-11-06T17:12:41.111261Z",
     "start_time": "2020-11-06T17:12:39.266547Z"
    }
   },
   "outputs": [],
   "source": [
    "aux1 = df4[['year','sales']].groupby('year').sum().reset_index()\n",
    "\n",
    "plt.subplot(1,3,1)\n",
    "sns.barplot(x='year', y='sales', data= aux1);\n",
    "\n",
    "plt.subplot(1,3,2)\n",
    "sns.regplot(x='year', y='sales', data= aux1);\n",
    "\n",
    "plt.subplot(1,3,3)\n",
    "sns.heatmap(aux1.corr(method='pearson'),annot=True)\n",
    "\n"
   ]
  },
  {
   "cell_type": "markdown",
   "metadata": {},
   "source": [
    "#### H9- Lojas deveriam vender mais no segundo semestre do ano.\n",
    "**False** Lojas vendem MENOS no segundo semestre do ano"
   ]
  },
  {
   "cell_type": "code",
   "execution_count": null,
   "metadata": {
    "ExecuteTime": {
     "end_time": "2020-11-06T17:12:43.349923Z",
     "start_time": "2020-11-06T17:12:41.114598Z"
    }
   },
   "outputs": [],
   "source": [
    "aux1 = df4[['month','sales']].groupby('month').sum().reset_index()\n",
    "\n",
    "plt.subplot(1,3,1)\n",
    "sns.barplot(x='month', y='sales', data= aux1);\n",
    "\n",
    "plt.subplot(1,3,2)\n",
    "sns.regplot(x='month', y='sales', data= aux1);\n",
    "\n",
    "plt.subplot(1,3,3)\n",
    "sns.heatmap(aux1.corr(method='pearson'),annot=True)"
   ]
  },
  {
   "cell_type": "markdown",
   "metadata": {},
   "source": [
    "#### H10- Lojas deveriam vender mais depois do dia 10 de cada mês.\n",
    "\n",
    "**True** "
   ]
  },
  {
   "cell_type": "code",
   "execution_count": null,
   "metadata": {
    "ExecuteTime": {
     "end_time": "2020-11-06T17:12:46.440673Z",
     "start_time": "2020-11-06T17:12:43.354052Z"
    }
   },
   "outputs": [],
   "source": [
    "aux1 = df4[['day','sales']].groupby('day').sum().reset_index()\n",
    "\n",
    "plt.subplot(2,2,1)\n",
    "sns.barplot(x='day', y='sales', data= aux1);\n",
    "\n",
    "plt.subplot(2,2,2)\n",
    "sns.regplot(x='day', y='sales', data= aux1);\n",
    "\n",
    "plt.subplot(2,2,3)\n",
    "sns.heatmap(aux1.corr(method='pearson'),annot=True)\n",
    "\n",
    "aux1['before_after'] = aux1['day'].apply(lambda x: 'before_10_day' if x <= 10 else 'after_10_day')\n",
    "aux2 = aux1[['before_after', 'sales']].groupby('before_after').sum().reset_index()\n",
    "\n",
    "plt.subplot(2,2,4)\n",
    "sns.barplot(x='before_after', y='sales', data= aux2);"
   ]
  },
  {
   "cell_type": "markdown",
   "metadata": {},
   "source": [
    "#### H11- Lojas deveriam vender menos aos finais de semana.\n",
    "**True** "
   ]
  },
  {
   "cell_type": "code",
   "execution_count": null,
   "metadata": {
    "ExecuteTime": {
     "end_time": "2020-11-06T17:12:48.602534Z",
     "start_time": "2020-11-06T17:12:46.443906Z"
    }
   },
   "outputs": [],
   "source": [
    "aux1 = df4[['day_of_week','sales']].groupby('day_of_week').sum().reset_index()\n",
    "\n",
    "plt.subplot(1,3,1)\n",
    "sns.barplot(x='day_of_week', y='sales', data= aux1);\n",
    "\n",
    "plt.subplot(1,3,2)\n",
    "sns.regplot(x='day_of_week', y='sales', data= aux1);\n",
    "\n",
    "plt.subplot(1,3,3)\n",
    "sns.heatmap(aux1.corr(method='pearson'),annot=True)"
   ]
  },
  {
   "cell_type": "markdown",
   "metadata": {},
   "source": [
    "#### H12- Lojas deveriam vender menos durante os feriados escolares.\n",
    "**TRUE** Lojas vendem menos durantes os feriados escolares exceto julho e agosto"
   ]
  },
  {
   "cell_type": "code",
   "execution_count": null,
   "metadata": {
    "ExecuteTime": {
     "end_time": "2020-11-06T17:12:50.137887Z",
     "start_time": "2020-11-06T17:12:48.606021Z"
    }
   },
   "outputs": [],
   "source": [
    "aux1 = df4[['school_holiday','sales']].groupby('school_holiday').sum().reset_index()\n",
    "\n",
    "plt.subplot(2,1,1)\n",
    "sns.barplot(x='school_holiday', y='sales', data= aux1);\n",
    "\n",
    "plt.subplot(2,1,2)\n",
    "aux2 = df4[['month','school_holiday','sales']].groupby(['month','school_holiday']).sum().reset_index()\n",
    "sns.barplot(x='month', y='sales',hue='school_holiday', data= aux2);\n"
   ]
  },
  {
   "cell_type": "markdown",
   "metadata": {},
   "source": [
    "### 4.2.2 - Resumo das Hipoteses"
   ]
  },
  {
   "cell_type": "code",
   "execution_count": null,
   "metadata": {
    "ExecuteTime": {
     "end_time": "2020-11-06T17:12:50.159481Z",
     "start_time": "2020-11-06T17:12:50.141237Z"
    }
   },
   "outputs": [],
   "source": [
    "tab =[['Hipotese', 'Conclusão','Relevância'],\n",
    "       ['H1','Falsa', 'Baixa'],\n",
    "       ['H2','Falsa', 'Média'],\n",
    "       ['H3','Falsa', 'Média'],\n",
    "       ['H4','Falsa', 'Baixa'],\n",
    "       ['H5','---', '---'],\n",
    "       ['H6','Falsa', 'Baixa'],\n",
    "       ['H7','Falsa', 'Média'],\n",
    "       ['H8','Falsa', 'Alta'], \n",
    "       ['H9','Falsa', 'Alta'], \n",
    "       ['H10','Verdadeira', 'Alta'],\n",
    "       ['H11','Verdadeira', 'Alta'],\n",
    "       ['H12','Verdadeira', 'Baixa'],\n",
    "] \n",
    "\n",
    "print(tabulate(tab, headers='firstrow'))"
   ]
  },
  {
   "cell_type": "markdown",
   "metadata": {},
   "source": [
    "## 4.3 Analysis Multivariate\n"
   ]
  },
  {
   "cell_type": "markdown",
   "metadata": {},
   "source": [
    "### 4.3.1 - Numerical Attributes"
   ]
  },
  {
   "cell_type": "code",
   "execution_count": null,
   "metadata": {
    "ExecuteTime": {
     "end_time": "2020-11-06T17:12:53.963358Z",
     "start_time": "2020-11-06T17:12:50.164281Z"
    }
   },
   "outputs": [],
   "source": [
    "correlation = num_attributes.corr(method='pearson')\n",
    "sns.heatmap(correlation, annot=True)"
   ]
  },
  {
   "cell_type": "markdown",
   "metadata": {},
   "source": [
    "### 4.3.2 - Categorical Attributes"
   ]
  },
  {
   "cell_type": "code",
   "execution_count": null,
   "metadata": {
    "ExecuteTime": {
     "end_time": "2020-11-06T17:12:57.207265Z",
     "start_time": "2020-11-06T17:12:53.967549Z"
    }
   },
   "outputs": [],
   "source": [
    "# only categorical data\n",
    "a = df4.select_dtypes(include='object')\n",
    "\n",
    "# Calculate cramer V\n",
    "a1 = cramer_v(a['state_holiday'], a['state_holiday'])\n",
    "a2 = cramer_v(a['state_holiday'], a['store_type'])\n",
    "a3 = cramer_v(a['state_holiday'], a['assortment'])\n",
    "\n",
    "a4 = cramer_v(a['store_type'], a['state_holiday'])\n",
    "a5 = cramer_v(a['store_type'], a['store_type'])\n",
    "a6 = cramer_v(a['store_type'], a['assortment'])\n",
    "\n",
    "a7 = cramer_v(a['assortment'], a['state_holiday'])\n",
    "a8 = cramer_v(a['assortment'], a['store_type'])\n",
    "a9 = cramer_v(a['assortment'], a['assortment'])\n",
    "\n",
    "#Final Dataset\n",
    "\n",
    "data = pd.DataFrame({'state_holiday':[a1,a2,a3],\n",
    "                     'store_type':[a4,a5,a6],\n",
    "                     'assortment':[a7,a8,a9]})\n",
    "\n",
    "data = data.set_index(data.columns)\n",
    "sns.heatmap(data,annot=True)"
   ]
  },
  {
   "cell_type": "markdown",
   "metadata": {},
   "source": [
    "# 5.0 Data Preparation"
   ]
  },
  {
   "cell_type": "code",
   "execution_count": null,
   "metadata": {
    "ExecuteTime": {
     "end_time": "2020-11-06T17:12:57.465078Z",
     "start_time": "2020-11-06T17:12:57.213772Z"
    }
   },
   "outputs": [],
   "source": [
    "df5 = df4.copy()"
   ]
  },
  {
   "cell_type": "markdown",
   "metadata": {},
   "source": [
    "## 5.1 Normalization"
   ]
  },
  {
   "cell_type": "code",
   "execution_count": null,
   "metadata": {
    "ExecuteTime": {
     "end_time": "2020-11-06T17:12:57.484260Z",
     "start_time": "2020-11-06T17:12:57.476334Z"
    }
   },
   "outputs": [],
   "source": [
    "# Verificar váriaveis que tem uma distribuição guaussiana"
   ]
  },
  {
   "cell_type": "markdown",
   "metadata": {},
   "source": [
    "## 5.2 Rescaling"
   ]
  },
  {
   "cell_type": "code",
   "execution_count": null,
   "metadata": {
    "ExecuteTime": {
     "end_time": "2020-11-06T17:12:57.815005Z",
     "start_time": "2020-11-06T17:12:57.499983Z"
    }
   },
   "outputs": [],
   "source": [
    "a = df5.select_dtypes(include=['float64','int64'])"
   ]
  },
  {
   "cell_type": "code",
   "execution_count": null,
   "metadata": {
    "ExecuteTime": {
     "end_time": "2020-11-06T17:13:01.127805Z",
     "start_time": "2020-11-06T17:12:57.820292Z"
    }
   },
   "outputs": [],
   "source": [
    "plt.subplot(2,2,1)\n",
    "sns.boxplot(df5['competition_distance'])\n",
    "\n",
    "plt.subplot(2,2,2)\n",
    "sns.boxplot(df5['year'])\n",
    "\n",
    "plt.subplot(2,2,3)\n",
    "sns.boxplot(df5['competition_time_month'])\n",
    "\n",
    "plt.subplot(2,2,4)\n",
    "sns.boxplot(df5['promo_since_week'])"
   ]
  },
  {
   "cell_type": "code",
   "execution_count": null,
   "metadata": {
    "ExecuteTime": {
     "end_time": "2020-11-06T17:13:02.055139Z",
     "start_time": "2020-11-06T17:13:01.131029Z"
    }
   },
   "outputs": [],
   "source": [
    "rs = RobustScaler()\n",
    "mms = MinMaxScaler()\n",
    "\n",
    "#competition_distance (Robust)\n",
    "\n",
    "df5['competition_distance'] = rs.fit_transform(df5[['competition_distance']].values)\n",
    "\n",
    "#competition_time_month (Robust)\n",
    "\n",
    "df5['competition_time_month'] = rs.fit_transform(df5[['competition_time_month']].values)\n",
    "\n",
    "#year (Rescale)\n",
    "\n",
    "df5['year'] = mms.fit_transform(df5[['year']].values)\n",
    "\n",
    "#promo_since_week (Rescale)\n",
    "\n",
    "df5['promo_since_week'] = mms.fit_transform(df5[['promo_since_week']].values)\n"
   ]
  },
  {
   "cell_type": "markdown",
   "metadata": {},
   "source": [
    "## 5.3 Transformation"
   ]
  },
  {
   "cell_type": "markdown",
   "metadata": {},
   "source": [
    "<b>- One hot Encoding</b>\n",
    "     - Muito simples de usar e tem uma desvantagens de criar muitas colunas no seu dataset ( variaveis com muitos níveis não são muitos bons)\n",
    "    \n",
    "<b>- Label Encoding</b>\n",
    "    - Funciona quando as variáveis tem apenas nomes ( nome de loja) - Não tem uma ordem\n",
    "\n",
    "<b>- Ordinal Encoding</b>\n",
    "    - Relação ordinal que tem uma relação de ordem \n",
    "    \n",
    "<b>- Target Encoding</b>\n",
    "    - Ele calcula a média e substitui o valor na variável \n",
    "\n",
    "<b>- Frequency Encoding</b>\n",
    "\n",
    "<b>- Embedding Encoding</b>"
   ]
  },
  {
   "cell_type": "markdown",
   "metadata": {},
   "source": [
    "### 5.3.1 Encoding"
   ]
  },
  {
   "cell_type": "code",
   "execution_count": null,
   "metadata": {
    "ExecuteTime": {
     "end_time": "2020-11-06T17:13:03.071243Z",
     "start_time": "2020-11-06T17:13:02.058229Z"
    }
   },
   "outputs": [],
   "source": [
    "# state_holiday - One Hot Encoding\n",
    "\n",
    "df5 = pd.get_dummies(df5,prefix=['state_holiday'], columns=['state_holiday'])\n",
    "\n",
    "# store_type Label Encoding\n",
    "\n",
    "le = LabelEncoder()\n",
    "df5['store_type'] = le.fit_transform(df5['store_type'])\n",
    "\n",
    "# assortment Ordinal Encoding\n",
    "\n",
    "assortment_dict = {'basic':1,'extra':2,'extended':3}\n",
    "df5['assortment'] = df5['assortment'].map(assortment_dict)"
   ]
  },
  {
   "cell_type": "markdown",
   "metadata": {},
   "source": [
    "### 5.3.2 Response Variable Transformation"
   ]
  },
  {
   "cell_type": "code",
   "execution_count": null,
   "metadata": {
    "ExecuteTime": {
     "end_time": "2020-11-06T17:13:03.120491Z",
     "start_time": "2020-11-06T17:13:03.075431Z"
    }
   },
   "outputs": [],
   "source": [
    "df5['sales']= np.log1p(df5['sales'])"
   ]
  },
  {
   "cell_type": "markdown",
   "metadata": {},
   "source": [
    "### 5.3.2 Nature Transformation"
   ]
  },
  {
   "cell_type": "code",
   "execution_count": null,
   "metadata": {
    "ExecuteTime": {
     "end_time": "2020-11-06T17:13:26.373998Z",
     "start_time": "2020-11-06T17:13:03.124884Z"
    }
   },
   "outputs": [],
   "source": [
    "# Variáveis ciclicas (que sempre se repetem em um determinado tempo)\n",
    "\n",
    "#month\n",
    "df5['month_sin']= df5['month'].apply(lambda x: np.sin(x * (2. * np.pi/12) ) )\n",
    "df5['month_cos']= df5['month'].apply(lambda x: np.cos(x * (2. * np.pi/12) ) )\n",
    "\n",
    "#day\n",
    "df5['day_sin']= df5['day'].apply(lambda x: np.sin(x * (2. * np.pi/30) ) )\n",
    "df5['day_cos']= df5['day'].apply(lambda x: np.cos(x * (2. * np.pi/30) ) )\n",
    "\n",
    "#week_of_year\n",
    "df5['week_of_year_sin']= df5['week_of_year'].apply(lambda x: np.sin(x * (2. * np.pi/52) ) )\n",
    "df5['week_of_year_cos']= df5['week_of_year'].apply(lambda x: np.cos(x * (2. * np.pi/52) ) )\n",
    "\n",
    "#day_of_week\n",
    "df5['day_of_week_sin']= df5['day_of_week'].apply(lambda x: np.sin(x * (2. * np.pi/7) ) )\n",
    "df5['day_of_week_cos']= df5['day_of_week'].apply(lambda x: np.cos(x * (2. * np.pi/7) ) )"
   ]
  },
  {
   "cell_type": "code",
   "execution_count": null,
   "metadata": {
    "ExecuteTime": {
     "end_time": "2020-11-06T17:13:26.464173Z",
     "start_time": "2020-11-06T17:13:26.377396Z"
    }
   },
   "outputs": [],
   "source": [
    "df5.head()"
   ]
  }
 ],
 "metadata": {
  "kernelspec": {
   "display_name": "Python 3",
   "language": "python",
   "name": "python3"
  },
  "language_info": {
   "codemirror_mode": {
    "name": "ipython",
    "version": 3
   },
   "file_extension": ".py",
   "mimetype": "text/x-python",
   "name": "python",
   "nbconvert_exporter": "python",
   "pygments_lexer": "ipython3",
   "version": "3.8.0"
  }
 },
 "nbformat": 4,
 "nbformat_minor": 4
}
